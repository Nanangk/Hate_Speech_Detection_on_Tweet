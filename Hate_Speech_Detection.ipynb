{
  "nbformat": 4,
  "nbformat_minor": 0,
  "metadata": {
    "colab": {
      "name": "Hate Speech Detection.ipynb",
      "provenance": [],
      "authorship_tag": "ABX9TyOvKsj2WjmNuL/YceNmgmQb",
      "include_colab_link": true
    },
    "kernelspec": {
      "name": "python3",
      "display_name": "Python 3"
    },
    "accelerator": "GPU"
  },
  "cells": [
    {
      "cell_type": "markdown",
      "metadata": {
        "id": "view-in-github",
        "colab_type": "text"
      },
      "source": [
        "<a href=\"https://colab.research.google.com/github/Nanangk/Hate_Speech_Detection_on_Tweet/blob/master/Hate_Speech_Detection.ipynb\" target=\"_parent\"><img src=\"https://colab.research.google.com/assets/colab-badge.svg\" alt=\"Open In Colab\"/></a>"
      ]
    },
    {
      "cell_type": "markdown",
      "metadata": {
        "id": "KfC8I3Gn4FZX"
      },
      "source": [
        "#Setup"
      ]
    },
    {
      "cell_type": "code",
      "metadata": {
        "id": "4umjRVCo3xWi"
      },
      "source": [
        "#import library\n",
        "import pandas as pd\n",
        "import tensorflow as tf\n",
        "from sklearn.model_selection import train_test_split\n",
        "from tensorflow.keras.preprocessing.text import Tokenizer\n",
        "from tensorflow.keras.preprocessing.sequence import pad_sequences\n",
        "import seaborn as sns\n",
        "import matplotlib.pyplot as plt\n",
        "\n",
        "\n",
        "%matplotlib inline"
      ],
      "execution_count": 52,
      "outputs": []
    },
    {
      "cell_type": "markdown",
      "metadata": {
        "id": "xDmFfvyW4Lz8"
      },
      "source": [
        "#Data Preparation"
      ]
    },
    {
      "cell_type": "code",
      "metadata": {
        "id": "CXo9RbzuDK-e"
      },
      "source": [
        "#import dataset\n",
        "df = pd.read_csv('labeled_data.csv')"
      ],
      "execution_count": 53,
      "outputs": []
    },
    {
      "cell_type": "code",
      "metadata": {
        "id": "UyWlRVk0FF7_",
        "colab": {
          "base_uri": "https://localhost:8080/",
          "height": 203
        },
        "outputId": "72a9ccd2-514c-4ee6-e436-8680c0404809"
      },
      "source": [
        "df.head()"
      ],
      "execution_count": 54,
      "outputs": [
        {
          "output_type": "execute_result",
          "data": {
            "text/html": [
              "<div>\n",
              "<style scoped>\n",
              "    .dataframe tbody tr th:only-of-type {\n",
              "        vertical-align: middle;\n",
              "    }\n",
              "\n",
              "    .dataframe tbody tr th {\n",
              "        vertical-align: top;\n",
              "    }\n",
              "\n",
              "    .dataframe thead th {\n",
              "        text-align: right;\n",
              "    }\n",
              "</style>\n",
              "<table border=\"1\" class=\"dataframe\">\n",
              "  <thead>\n",
              "    <tr style=\"text-align: right;\">\n",
              "      <th></th>\n",
              "      <th>Unnamed: 0</th>\n",
              "      <th>count</th>\n",
              "      <th>hate_speech</th>\n",
              "      <th>offensive_language</th>\n",
              "      <th>neither</th>\n",
              "      <th>class</th>\n",
              "      <th>tweet</th>\n",
              "    </tr>\n",
              "  </thead>\n",
              "  <tbody>\n",
              "    <tr>\n",
              "      <th>0</th>\n",
              "      <td>0</td>\n",
              "      <td>3</td>\n",
              "      <td>0</td>\n",
              "      <td>0</td>\n",
              "      <td>3</td>\n",
              "      <td>2</td>\n",
              "      <td>!!! RT @mayasolovely: As a woman you shouldn't...</td>\n",
              "    </tr>\n",
              "    <tr>\n",
              "      <th>1</th>\n",
              "      <td>1</td>\n",
              "      <td>3</td>\n",
              "      <td>0</td>\n",
              "      <td>3</td>\n",
              "      <td>0</td>\n",
              "      <td>1</td>\n",
              "      <td>!!!!! RT @mleew17: boy dats cold...tyga dwn ba...</td>\n",
              "    </tr>\n",
              "    <tr>\n",
              "      <th>2</th>\n",
              "      <td>2</td>\n",
              "      <td>3</td>\n",
              "      <td>0</td>\n",
              "      <td>3</td>\n",
              "      <td>0</td>\n",
              "      <td>1</td>\n",
              "      <td>!!!!!!! RT @UrKindOfBrand Dawg!!!! RT @80sbaby...</td>\n",
              "    </tr>\n",
              "    <tr>\n",
              "      <th>3</th>\n",
              "      <td>3</td>\n",
              "      <td>3</td>\n",
              "      <td>0</td>\n",
              "      <td>2</td>\n",
              "      <td>1</td>\n",
              "      <td>1</td>\n",
              "      <td>!!!!!!!!! RT @C_G_Anderson: @viva_based she lo...</td>\n",
              "    </tr>\n",
              "    <tr>\n",
              "      <th>4</th>\n",
              "      <td>4</td>\n",
              "      <td>6</td>\n",
              "      <td>0</td>\n",
              "      <td>6</td>\n",
              "      <td>0</td>\n",
              "      <td>1</td>\n",
              "      <td>!!!!!!!!!!!!! RT @ShenikaRoberts: The shit you...</td>\n",
              "    </tr>\n",
              "  </tbody>\n",
              "</table>\n",
              "</div>"
            ],
            "text/plain": [
              "   Unnamed: 0  count  ...  class                                              tweet\n",
              "0           0      3  ...      2  !!! RT @mayasolovely: As a woman you shouldn't...\n",
              "1           1      3  ...      1  !!!!! RT @mleew17: boy dats cold...tyga dwn ba...\n",
              "2           2      3  ...      1  !!!!!!! RT @UrKindOfBrand Dawg!!!! RT @80sbaby...\n",
              "3           3      3  ...      1  !!!!!!!!! RT @C_G_Anderson: @viva_based she lo...\n",
              "4           4      6  ...      1  !!!!!!!!!!!!! RT @ShenikaRoberts: The shit you...\n",
              "\n",
              "[5 rows x 7 columns]"
            ]
          },
          "metadata": {
            "tags": []
          },
          "execution_count": 54
        }
      ]
    },
    {
      "cell_type": "code",
      "metadata": {
        "id": "K83uwJpSFH3S",
        "colab": {
          "base_uri": "https://localhost:8080/",
          "height": 203
        },
        "outputId": "db9cdae9-ce47-4c60-eb1d-a111abb9cca0"
      },
      "source": [
        "#get the required data\n",
        "dataset = df[['class','tweet']]\n",
        "dataset.tail(5)"
      ],
      "execution_count": 55,
      "outputs": [
        {
          "output_type": "execute_result",
          "data": {
            "text/html": [
              "<div>\n",
              "<style scoped>\n",
              "    .dataframe tbody tr th:only-of-type {\n",
              "        vertical-align: middle;\n",
              "    }\n",
              "\n",
              "    .dataframe tbody tr th {\n",
              "        vertical-align: top;\n",
              "    }\n",
              "\n",
              "    .dataframe thead th {\n",
              "        text-align: right;\n",
              "    }\n",
              "</style>\n",
              "<table border=\"1\" class=\"dataframe\">\n",
              "  <thead>\n",
              "    <tr style=\"text-align: right;\">\n",
              "      <th></th>\n",
              "      <th>class</th>\n",
              "      <th>tweet</th>\n",
              "    </tr>\n",
              "  </thead>\n",
              "  <tbody>\n",
              "    <tr>\n",
              "      <th>24778</th>\n",
              "      <td>1</td>\n",
              "      <td>you's a muthaf***in lie &amp;#8220;@LifeAsKing: @2...</td>\n",
              "    </tr>\n",
              "    <tr>\n",
              "      <th>24779</th>\n",
              "      <td>2</td>\n",
              "      <td>you've gone and broke the wrong heart baby, an...</td>\n",
              "    </tr>\n",
              "    <tr>\n",
              "      <th>24780</th>\n",
              "      <td>1</td>\n",
              "      <td>young buck wanna eat!!.. dat nigguh like I ain...</td>\n",
              "    </tr>\n",
              "    <tr>\n",
              "      <th>24781</th>\n",
              "      <td>1</td>\n",
              "      <td>youu got wild bitches tellin you lies</td>\n",
              "    </tr>\n",
              "    <tr>\n",
              "      <th>24782</th>\n",
              "      <td>2</td>\n",
              "      <td>~~Ruffled | Ntac Eileen Dahlia - Beautiful col...</td>\n",
              "    </tr>\n",
              "  </tbody>\n",
              "</table>\n",
              "</div>"
            ],
            "text/plain": [
              "       class                                              tweet\n",
              "24778      1  you's a muthaf***in lie &#8220;@LifeAsKing: @2...\n",
              "24779      2  you've gone and broke the wrong heart baby, an...\n",
              "24780      1  young buck wanna eat!!.. dat nigguh like I ain...\n",
              "24781      1              youu got wild bitches tellin you lies\n",
              "24782      2  ~~Ruffled | Ntac Eileen Dahlia - Beautiful col..."
            ]
          },
          "metadata": {
            "tags": []
          },
          "execution_count": 55
        }
      ]
    },
    {
      "cell_type": "code",
      "metadata": {
        "id": "rC4hMbFm7sOp",
        "outputId": "fecdfbde-eb8d-4a59-93bc-7ec440e8a575",
        "colab": {
          "base_uri": "https://localhost:8080/"
        }
      },
      "source": [
        "dataset['class'].value_counts()"
      ],
      "execution_count": 56,
      "outputs": [
        {
          "output_type": "execute_result",
          "data": {
            "text/plain": [
              "1    19190\n",
              "2     4163\n",
              "0     1430\n",
              "Name: class, dtype: int64"
            ]
          },
          "metadata": {
            "tags": []
          },
          "execution_count": 56
        }
      ]
    },
    {
      "cell_type": "code",
      "metadata": {
        "id": "WDp4k9BlMfVT",
        "outputId": "544f038c-e3d8-441a-83cd-40f4b6cdf399",
        "colab": {
          "base_uri": "https://localhost:8080/",
          "height": 355
        }
      },
      "source": [
        "sns.countplot('class',data=dataset)"
      ],
      "execution_count": 57,
      "outputs": [
        {
          "output_type": "stream",
          "text": [
            "/usr/local/lib/python3.7/dist-packages/seaborn/_decorators.py:43: FutureWarning: Pass the following variable as a keyword arg: x. From version 0.12, the only valid positional argument will be `data`, and passing other arguments without an explicit keyword will result in an error or misinterpretation.\n",
            "  FutureWarning\n"
          ],
          "name": "stderr"
        },
        {
          "output_type": "execute_result",
          "data": {
            "text/plain": [
              "<matplotlib.axes._subplots.AxesSubplot at 0x7fbedb133a10>"
            ]
          },
          "metadata": {
            "tags": []
          },
          "execution_count": 57
        },
        {
          "output_type": "display_data",
          "data": {
            "image/png": "[encoded data removed]",
            "text/plain": [
              "<Figure size 432x288 with 1 Axes>"
            ]
          },
          "metadata": {
            "tags": [],
            "needs_background": "light"
          }
        }
      ]
    },
    {
      "cell_type": "code",
      "metadata": {
        "id": "CzA73cCV-bSN",
        "outputId": "1970308d-6321-4e46-baf9-16691998ca11",
        "colab": {
          "base_uri": "https://localhost:8080/",
          "height": 266
        }
      },
      "source": [
        "#show percentage dataset\n",
        "dataset['class'].value_counts().plot(kind='pie', autopct='%1.0f%%')"
      ],
      "execution_count": 58,
      "outputs": [
        {
          "output_type": "execute_result",
          "data": {
            "text/plain": [
              "<matplotlib.axes._subplots.AxesSubplot at 0x7fbedb090890>"
            ]
          },
          "metadata": {
            "tags": []
          },
          "execution_count": 58
        },
        {
          "output_type": "display_data",
          "data": {
            "image/png": "[encoded data removed]",
            "text/plain": [
              "<Figure size 432x288 with 1 Axes>"
            ]
          },
          "metadata": {
            "tags": []
          }
        }
      ]
    },
    {
      "cell_type": "code",
      "metadata": {
        "id": "3dgdgZE0F-uI"
      },
      "source": [
        "#separate tweet and category\n",
        "tweet = dataset['tweet'].values\n",
        "categori = dataset['class'].values"
      ],
      "execution_count": 59,
      "outputs": []
    },
    {
      "cell_type": "code",
      "metadata": {
        "id": "vrWgKYOmimdb"
      },
      "source": [
        "categori = tf.keras.utils.to_categorical(categori, 3)"
      ],
      "execution_count": 60,
      "outputs": []
    },
    {
      "cell_type": "code",
      "metadata": {
        "id": "5JQ53A1SOr03"
      },
      "source": [
        "#make sure every review is text\n",
        "for i in range(len(tweet)):\n",
        "  tweet[i] = str(tweet[i])"
      ],
      "execution_count": 61,
      "outputs": []
    },
    {
      "cell_type": "code",
      "metadata": {
        "id": "UYQA0qFnG84L"
      },
      "source": [
        "#split train and test data\n",
        "tweet_train, tweet_test, categori_train, categori_test = train_test_split(tweet, categori, test_size=0.2)"
      ],
      "execution_count": 62,
      "outputs": []
    },
    {
      "cell_type": "markdown",
      "metadata": {
        "id": "vuPLKpdTM941"
      },
      "source": [
        ""
      ]
    },
    {
      "cell_type": "markdown",
      "metadata": {
        "id": "KReNMmYN4xcS"
      },
      "source": [
        "#Feature Extraction"
      ]
    },
    {
      "cell_type": "code",
      "metadata": {
        "id": "URhqFWicICzM"
      },
      "source": [
        "#tokenization\n",
        "tokenizer = Tokenizer(num_words=1000, oov_token='x')\n",
        "tokenizer.fit_on_texts(tweet_train) \n",
        "tokenizer.fit_on_texts(tweet_test)"
      ],
      "execution_count": 63,
      "outputs": []
    },
    {
      "cell_type": "code",
      "metadata": {
        "id": "molXmIa2LmQ4"
      },
      "source": [
        "#convert sample to sequence\n",
        "sekuens_latih = tokenizer.texts_to_sequences(tweet_train)\n",
        "sekuens_test = tokenizer.texts_to_sequences(tweet_test)"
      ],
      "execution_count": 64,
      "outputs": []
    },
    {
      "cell_type": "code",
      "metadata": {
        "id": "oZvgWJxDIK6K"
      },
      "source": [
        "#padding\n",
        "padded_latih = pad_sequences(sekuens_latih) \n",
        "padded_test = pad_sequences(sekuens_test)"
      ],
      "execution_count": 65,
      "outputs": []
    },
    {
      "cell_type": "markdown",
      "metadata": {
        "id": "I9hDiaDx45az"
      },
      "source": [
        "#Model"
      ]
    },
    {
      "cell_type": "code",
      "metadata": {
        "id": "MYXLBomJIeP5"
      },
      "source": [
        "#model\n",
        "\n",
        "model = tf.keras.Sequential([\n",
        "    tf.keras.layers.Embedding(input_dim=1000, output_dim=16),\n",
        "    tf.keras.layers.LSTM(64),\n",
        "    tf.keras.layers.Dense(256, activation='tanh'),\n",
        "    tf.keras.layers.Dense(128, activation='tanh'),\n",
        "    tf.keras.layers.Dense(64, activation='tanh'),\n",
        "    tf.keras.layers.Dense(32, activation='tanh'),\n",
        "    tf.keras.layers.Dense(3, activation='sigmoid')\n",
        "])"
      ],
      "execution_count": 66,
      "outputs": []
    },
    {
      "cell_type": "code",
      "metadata": {
        "id": "AKFYORdqEiWL",
        "outputId": "68ec0991-0b1b-488c-c18f-ecb1e1ea685c",
        "colab": {
          "base_uri": "https://localhost:8080/"
        }
      },
      "source": [
        "#model summary\n",
        "model.summary()"
      ],
      "execution_count": 67,
      "outputs": [
        {
          "output_type": "stream",
          "text": [
            "Model: \"sequential_1\"\n",
            "_________________________________________________________________\n",
            "Layer (type)                 Output Shape              Param #   \n",
            "=================================================================\n",
            "embedding_1 (Embedding)      (None, None, 16)          16000     \n",
            "_________________________________________________________________\n",
            "lstm_1 (LSTM)                (None, 64)                20736     \n",
            "_________________________________________________________________\n",
            "dense_5 (Dense)              (None, 256)               16640     \n",
            "_________________________________________________________________\n",
            "dense_6 (Dense)              (None, 128)               32896     \n",
            "_________________________________________________________________\n",
            "dense_7 (Dense)              (None, 64)                8256      \n",
            "_________________________________________________________________\n",
            "dense_8 (Dense)              (None, 32)                2080      \n",
            "_________________________________________________________________\n",
            "dense_9 (Dense)              (None, 3)                 99        \n",
            "=================================================================\n",
            "Total params: 96,707\n",
            "Trainable params: 96,707\n",
            "Non-trainable params: 0\n",
            "_________________________________________________________________\n"
          ],
          "name": "stdout"
        }
      ]
    },
    {
      "cell_type": "code",
      "metadata": {
        "id": "Z4GZZ4ECL8R9"
      },
      "source": [
        "#compile model\n",
        "model.compile(loss='kl_divergence',\n",
        "              optimizer=tf.keras.optimizers.Adam(learning_rate=1e-5),\n",
        "              metrics=['accuracy',tf.keras.metrics.MeanAbsoluteError()])"
      ],
      "execution_count": 68,
      "outputs": []
    },
    {
      "cell_type": "code",
      "metadata": {
        "id": "azsQEHzYME6M",
        "colab": {
          "base_uri": "https://localhost:8080/"
        },
        "outputId": "55284bc8-4c64-4c7f-f1b7-ff2381e14e04"
      },
      "source": [
        "#training model\n",
        "\n",
        "mymodel = model.fit(padded_latih, categori_train, epochs=100, batch_size=64, \n",
        "                    validation_data=(padded_test, categori_test), \n",
        "                    verbose=1)"
      ],
      "execution_count": 69,
      "outputs": [
        {
          "output_type": "stream",
          "text": [
            "Epoch 1/100\n",
            "310/310 [==============================] - 6s 10ms/step - loss: 0.5965 - accuracy: 0.7587 - mean_absolute_error: 0.4912 - val_loss: 0.3965 - val_accuracy: 0.7781 - val_mean_absolute_error: 0.4720\n",
            "Epoch 2/100\n",
            "310/310 [==============================] - 3s 8ms/step - loss: 0.1507 - accuracy: 0.7734 - mean_absolute_error: 0.4892 - val_loss: 0.0513 - val_accuracy: 0.7781 - val_mean_absolute_error: 0.5383\n",
            "Epoch 3/100\n",
            "310/310 [==============================] - 3s 8ms/step - loss: 0.0388 - accuracy: 0.7734 - mean_absolute_error: 0.5722 - val_loss: 0.0327 - val_accuracy: 0.7781 - val_mean_absolute_error: 0.5909\n",
            "Epoch 4/100\n",
            "310/310 [==============================] - 3s 9ms/step - loss: 0.0300 - accuracy: 0.7734 - mean_absolute_error: 0.6003 - val_loss: 0.0278 - val_accuracy: 0.7781 - val_mean_absolute_error: 0.6054\n",
            "Epoch 5/100\n",
            "310/310 [==============================] - 3s 9ms/step - loss: 0.0262 - accuracy: 0.7734 - mean_absolute_error: 0.6104 - val_loss: 0.0245 - val_accuracy: 0.7781 - val_mean_absolute_error: 0.6134\n",
            "Epoch 6/100\n",
            "310/310 [==============================] - 3s 8ms/step - loss: 0.0233 - accuracy: 0.7734 - mean_absolute_error: 0.6168 - val_loss: 0.0219 - val_accuracy: 0.7781 - val_mean_absolute_error: 0.6199\n",
            "Epoch 7/100\n",
            "310/310 [==============================] - 3s 9ms/step - loss: 0.0209 - accuracy: 0.7734 - mean_absolute_error: 0.6228 - val_loss: 0.0197 - val_accuracy: 0.7781 - val_mean_absolute_error: 0.6248\n",
            "Epoch 8/100\n",
            "310/310 [==============================] - 3s 8ms/step - loss: 0.0189 - accuracy: 0.7734 - mean_absolute_error: 0.6274 - val_loss: 0.0179 - val_accuracy: 0.7781 - val_mean_absolute_error: 0.6289\n",
            "Epoch 9/100\n",
            "310/310 [==============================] - 3s 8ms/step - loss: 0.0172 - accuracy: 0.7734 - mean_absolute_error: 0.6310 - val_loss: 0.0163 - val_accuracy: 0.7781 - val_mean_absolute_error: 0.6328\n",
            "Epoch 10/100\n",
            "310/310 [==============================] - 3s 8ms/step - loss: 0.0157 - accuracy: 0.7734 - mean_absolute_error: 0.6346 - val_loss: 0.0149 - val_accuracy: 0.7781 - val_mean_absolute_error: 0.6361\n",
            "Epoch 11/100\n",
            "310/310 [==============================] - 3s 8ms/step - loss: 0.0144 - accuracy: 0.7734 - mean_absolute_error: 0.6376 - val_loss: 0.0136 - val_accuracy: 0.7781 - val_mean_absolute_error: 0.6387\n",
            "Epoch 12/100\n",
            "310/310 [==============================] - 3s 8ms/step - loss: 0.0132 - accuracy: 0.7734 - mean_absolute_error: 0.6402 - val_loss: 0.0126 - val_accuracy: 0.7781 - val_mean_absolute_error: 0.6412\n",
            "Epoch 13/100\n",
            "310/310 [==============================] - 3s 8ms/step - loss: 0.0122 - accuracy: 0.7734 - mean_absolute_error: 0.6423 - val_loss: 0.0116 - val_accuracy: 0.7781 - val_mean_absolute_error: 0.6433\n",
            "Epoch 14/100\n",
            "310/310 [==============================] - 3s 8ms/step - loss: 0.0112 - accuracy: 0.7734 - mean_absolute_error: 0.6443 - val_loss: 0.0107 - val_accuracy: 0.7781 - val_mean_absolute_error: 0.6452\n",
            "Epoch 15/100\n",
            "310/310 [==============================] - 3s 8ms/step - loss: 0.0104 - accuracy: 0.7734 - mean_absolute_error: 0.6461 - val_loss: 0.0099 - val_accuracy: 0.7781 - val_mean_absolute_error: 0.6467\n",
            "Epoch 16/100\n",
            "310/310 [==============================] - 3s 8ms/step - loss: 0.0096 - accuracy: 0.7734 - mean_absolute_error: 0.6475 - val_loss: 0.0092 - val_accuracy: 0.7781 - val_mean_absolute_error: 0.6482\n",
            "Epoch 17/100\n",
            "310/310 [==============================] - 3s 8ms/step - loss: 0.0089 - accuracy: 0.7734 - mean_absolute_error: 0.6489 - val_loss: 0.0085 - val_accuracy: 0.7781 - val_mean_absolute_error: 0.6495\n",
            "Epoch 18/100\n",
            "310/310 [==============================] - 3s 9ms/step - loss: 0.0082 - accuracy: 0.7734 - mean_absolute_error: 0.6502 - val_loss: 0.0079 - val_accuracy: 0.7781 - val_mean_absolute_error: 0.6507\n",
            "Epoch 19/100\n",
            "310/310 [==============================] - 3s 8ms/step - loss: 0.0076 - accuracy: 0.7734 - mean_absolute_error: 0.6513 - val_loss: 0.0073 - val_accuracy: 0.7781 - val_mean_absolute_error: 0.6518\n",
            "Epoch 20/100\n",
            "310/310 [==============================] - 3s 8ms/step - loss: 0.0071 - accuracy: 0.7734 - mean_absolute_error: 0.6523 - val_loss: 0.0068 - val_accuracy: 0.7781 - val_mean_absolute_error: 0.6527\n",
            "Epoch 21/100\n",
            "310/310 [==============================] - 3s 8ms/step - loss: 0.0066 - accuracy: 0.7734 - mean_absolute_error: 0.6533 - val_loss: 0.0063 - val_accuracy: 0.7781 - val_mean_absolute_error: 0.6537\n",
            "Epoch 22/100\n",
            "310/310 [==============================] - 3s 8ms/step - loss: 0.0061 - accuracy: 0.7734 - mean_absolute_error: 0.6541 - val_loss: 0.0058 - val_accuracy: 0.7781 - val_mean_absolute_error: 0.6545\n",
            "Epoch 23/100\n",
            "310/310 [==============================] - 3s 8ms/step - loss: 0.0057 - accuracy: 0.7734 - mean_absolute_error: 0.6550 - val_loss: 0.0054 - val_accuracy: 0.7781 - val_mean_absolute_error: 0.6553\n",
            "Epoch 24/100\n",
            "310/310 [==============================] - 3s 8ms/step - loss: 0.0053 - accuracy: 0.7734 - mean_absolute_error: 0.6557 - val_loss: 0.0050 - val_accuracy: 0.7781 - val_mean_absolute_error: 0.6561\n",
            "Epoch 25/100\n",
            "310/310 [==============================] - 3s 8ms/step - loss: 0.0049 - accuracy: 0.7734 - mean_absolute_error: 0.6564 - val_loss: 0.0047 - val_accuracy: 0.7781 - val_mean_absolute_error: 0.6567\n",
            "Epoch 26/100\n",
            "310/310 [==============================] - 3s 8ms/step - loss: 0.0046 - accuracy: 0.7734 - mean_absolute_error: 0.6571 - val_loss: 0.0044 - val_accuracy: 0.7781 - val_mean_absolute_error: 0.6573\n",
            "Epoch 27/100\n",
            "310/310 [==============================] - 3s 8ms/step - loss: 0.0042 - accuracy: 0.7734 - mean_absolute_error: 0.6576 - val_loss: 0.0040 - val_accuracy: 0.7781 - val_mean_absolute_error: 0.6580\n",
            "Epoch 28/100\n",
            "310/310 [==============================] - 3s 8ms/step - loss: 0.0039 - accuracy: 0.7734 - mean_absolute_error: 0.6583 - val_loss: 0.0038 - val_accuracy: 0.7781 - val_mean_absolute_error: 0.6585\n",
            "Epoch 29/100\n",
            "310/310 [==============================] - 3s 8ms/step - loss: 0.0037 - accuracy: 0.7734 - mean_absolute_error: 0.6588 - val_loss: 0.0035 - val_accuracy: 0.7781 - val_mean_absolute_error: 0.6590\n",
            "Epoch 30/100\n",
            "310/310 [==============================] - 3s 9ms/step - loss: 0.0034 - accuracy: 0.7734 - mean_absolute_error: 0.6593 - val_loss: 0.0033 - val_accuracy: 0.7781 - val_mean_absolute_error: 0.6595\n",
            "Epoch 31/100\n",
            "310/310 [==============================] - 3s 8ms/step - loss: 0.0032 - accuracy: 0.7734 - mean_absolute_error: 0.6597 - val_loss: 0.0030 - val_accuracy: 0.7781 - val_mean_absolute_error: 0.6599\n",
            "Epoch 32/100\n",
            "310/310 [==============================] - 3s 8ms/step - loss: 0.0029 - accuracy: 0.7734 - mean_absolute_error: 0.6602 - val_loss: 0.0028 - val_accuracy: 0.7781 - val_mean_absolute_error: 0.6604\n",
            "Epoch 33/100\n",
            "310/310 [==============================] - 3s 9ms/step - loss: 0.0027 - accuracy: 0.7734 - mean_absolute_error: 0.6606 - val_loss: 0.0026 - val_accuracy: 0.7781 - val_mean_absolute_error: 0.6608\n",
            "Epoch 34/100\n",
            "310/310 [==============================] - 3s 8ms/step - loss: 0.0025 - accuracy: 0.7734 - mean_absolute_error: 0.6610 - val_loss: 0.0024 - val_accuracy: 0.7781 - val_mean_absolute_error: 0.6611\n",
            "Epoch 35/100\n",
            "310/310 [==============================] - 3s 8ms/step - loss: 0.0024 - accuracy: 0.7734 - mean_absolute_error: 0.6613 - val_loss: 0.0023 - val_accuracy: 0.7781 - val_mean_absolute_error: 0.6615\n",
            "Epoch 36/100\n",
            "310/310 [==============================] - 3s 8ms/step - loss: 0.0022 - accuracy: 0.7734 - mean_absolute_error: 0.6617 - val_loss: 0.0021 - val_accuracy: 0.7781 - val_mean_absolute_error: 0.6618\n",
            "Epoch 37/100\n",
            "310/310 [==============================] - 3s 8ms/step - loss: 0.0021 - accuracy: 0.7734 - mean_absolute_error: 0.6620 - val_loss: 0.0020 - val_accuracy: 0.7781 - val_mean_absolute_error: 0.6621\n",
            "Epoch 38/100\n",
            "310/310 [==============================] - 3s 8ms/step - loss: 0.0019 - accuracy: 0.7734 - mean_absolute_error: 0.6623 - val_loss: 0.0018 - val_accuracy: 0.7781 - val_mean_absolute_error: 0.6624\n",
            "Epoch 39/100\n",
            "310/310 [==============================] - 3s 8ms/step - loss: 0.0018 - accuracy: 0.7734 - mean_absolute_error: 0.6625 - val_loss: 0.0017 - val_accuracy: 0.7781 - val_mean_absolute_error: 0.6627\n",
            "Epoch 40/100\n",
            "310/310 [==============================] - 3s 8ms/step - loss: 0.0017 - accuracy: 0.7734 - mean_absolute_error: 0.6628 - val_loss: 0.0016 - val_accuracy: 0.7781 - val_mean_absolute_error: 0.6629\n",
            "Epoch 41/100\n",
            "310/310 [==============================] - 3s 8ms/step - loss: 0.0015 - accuracy: 0.7734 - mean_absolute_error: 0.6630 - val_loss: 0.0015 - val_accuracy: 0.7781 - val_mean_absolute_error: 0.6632\n",
            "Epoch 42/100\n",
            "310/310 [==============================] - 3s 8ms/step - loss: 0.0014 - accuracy: 0.7734 - mean_absolute_error: 0.6633 - val_loss: 0.0014 - val_accuracy: 0.7781 - val_mean_absolute_error: 0.6634\n",
            "Epoch 43/100\n",
            "310/310 [==============================] - 3s 8ms/step - loss: 0.0013 - accuracy: 0.7734 - mean_absolute_error: 0.6635 - val_loss: 0.0013 - val_accuracy: 0.7781 - val_mean_absolute_error: 0.6636\n",
            "Epoch 44/100\n",
            "310/310 [==============================] - 3s 8ms/step - loss: 0.0012 - accuracy: 0.7734 - mean_absolute_error: 0.6637 - val_loss: 0.0012 - val_accuracy: 0.7781 - val_mean_absolute_error: 0.6638\n",
            "Epoch 45/100\n",
            "310/310 [==============================] - 3s 9ms/step - loss: 0.0012 - accuracy: 0.7734 - mean_absolute_error: 0.6639 - val_loss: 0.0011 - val_accuracy: 0.7781 - val_mean_absolute_error: 0.6639\n",
            "Epoch 46/100\n",
            "310/310 [==============================] - 3s 9ms/step - loss: 0.0011 - accuracy: 0.7734 - mean_absolute_error: 0.6640 - val_loss: 0.0010 - val_accuracy: 0.7781 - val_mean_absolute_error: 0.6641\n",
            "Epoch 47/100\n",
            "310/310 [==============================] - 3s 8ms/step - loss: 0.0010 - accuracy: 0.7734 - mean_absolute_error: 0.6642 - val_loss: 9.6003e-04 - val_accuracy: 0.7781 - val_mean_absolute_error: 0.6643\n",
            "Epoch 48/100\n",
            "310/310 [==============================] - 3s 8ms/step - loss: 9.3403e-04 - accuracy: 0.7734 - mean_absolute_error: 0.6644 - val_loss: 8.9368e-04 - val_accuracy: 0.7781 - val_mean_absolute_error: 0.6644\n",
            "Epoch 49/100\n",
            "310/310 [==============================] - 3s 8ms/step - loss: 8.6959e-04 - accuracy: 0.7734 - mean_absolute_error: 0.6645 - val_loss: 8.3197e-04 - val_accuracy: 0.7781 - val_mean_absolute_error: 0.6646\n",
            "Epoch 50/100\n",
            "310/310 [==============================] - 3s 8ms/step - loss: 8.0959e-04 - accuracy: 0.7734 - mean_absolute_error: 0.6646 - val_loss: 7.7446e-04 - val_accuracy: 0.7781 - val_mean_absolute_error: 0.6647\n",
            "Epoch 51/100\n",
            "310/310 [==============================] - 3s 8ms/step - loss: 7.5373e-04 - accuracy: 0.7734 - mean_absolute_error: 0.6648 - val_loss: 7.2112e-04 - val_accuracy: 0.7781 - val_mean_absolute_error: 0.6648\n",
            "Epoch 52/100\n",
            "310/310 [==============================] - 3s 8ms/step - loss: 7.0172e-04 - accuracy: 0.7734 - mean_absolute_error: 0.6649 - val_loss: 6.7134e-04 - val_accuracy: 0.7781 - val_mean_absolute_error: 0.6649\n",
            "Epoch 53/100\n",
            "310/310 [==============================] - 3s 8ms/step - loss: 6.5331e-04 - accuracy: 0.7734 - mean_absolute_error: 0.6650 - val_loss: 6.2496e-04 - val_accuracy: 0.7781 - val_mean_absolute_error: 0.6651\n",
            "Epoch 54/100\n",
            "310/310 [==============================] - 3s 8ms/step - loss: 6.0824e-04 - accuracy: 0.7734 - mean_absolute_error: 0.6651 - val_loss: 5.8189e-04 - val_accuracy: 0.7781 - val_mean_absolute_error: 0.6652\n",
            "Epoch 55/100\n",
            "310/310 [==============================] - 3s 9ms/step - loss: 5.6626e-04 - accuracy: 0.7734 - mean_absolute_error: 0.6652 - val_loss: 5.4165e-04 - val_accuracy: 0.7781 - val_mean_absolute_error: 0.6653\n",
            "Epoch 56/100\n",
            "310/310 [==============================] - 3s 9ms/step - loss: 5.2717e-04 - accuracy: 0.7734 - mean_absolute_error: 0.6653 - val_loss: 5.0422e-04 - val_accuracy: 0.7781 - val_mean_absolute_error: 0.6653\n",
            "Epoch 57/100\n",
            "310/310 [==============================] - 3s 9ms/step - loss: 4.9079e-04 - accuracy: 0.7734 - mean_absolute_error: 0.6654 - val_loss: 4.6941e-04 - val_accuracy: 0.7781 - val_mean_absolute_error: 0.6654\n",
            "Epoch 58/100\n",
            "310/310 [==============================] - 3s 9ms/step - loss: 4.5693e-04 - accuracy: 0.7734 - mean_absolute_error: 0.6655 - val_loss: 4.3708e-04 - val_accuracy: 0.7781 - val_mean_absolute_error: 0.6655\n",
            "Epoch 59/100\n",
            "310/310 [==============================] - 3s 8ms/step - loss: 4.2540e-04 - accuracy: 0.7734 - mean_absolute_error: 0.6655 - val_loss: 4.0678e-04 - val_accuracy: 0.7781 - val_mean_absolute_error: 0.6656\n",
            "Epoch 60/100\n",
            "310/310 [==============================] - 3s 8ms/step - loss: 3.9603e-04 - accuracy: 0.7734 - mean_absolute_error: 0.6656 - val_loss: 3.7873e-04 - val_accuracy: 0.7781 - val_mean_absolute_error: 0.6656\n",
            "Epoch 61/100\n",
            "310/310 [==============================] - 3s 8ms/step - loss: 3.6870e-04 - accuracy: 0.7734 - mean_absolute_error: 0.6657 - val_loss: 3.5261e-04 - val_accuracy: 0.7781 - val_mean_absolute_error: 0.6657\n",
            "Epoch 62/100\n",
            "310/310 [==============================] - 3s 8ms/step - loss: 3.4322e-04 - accuracy: 0.7734 - mean_absolute_error: 0.6657 - val_loss: 3.2815e-04 - val_accuracy: 0.7781 - val_mean_absolute_error: 0.6658\n",
            "Epoch 63/100\n",
            "310/310 [==============================] - 3s 8ms/step - loss: 3.1949e-04 - accuracy: 0.7734 - mean_absolute_error: 0.6658 - val_loss: 3.0542e-04 - val_accuracy: 0.7781 - val_mean_absolute_error: 0.6658\n",
            "Epoch 64/100\n",
            "310/310 [==============================] - 3s 9ms/step - loss: 2.9738e-04 - accuracy: 0.7734 - mean_absolute_error: 0.6659 - val_loss: 2.8435e-04 - val_accuracy: 0.7781 - val_mean_absolute_error: 0.6659\n",
            "Epoch 65/100\n",
            "310/310 [==============================] - 3s 8ms/step - loss: 2.7679e-04 - accuracy: 0.7734 - mean_absolute_error: 0.6659 - val_loss: 2.6460e-04 - val_accuracy: 0.7781 - val_mean_absolute_error: 0.6659\n",
            "Epoch 66/100\n",
            "310/310 [==============================] - 3s 8ms/step - loss: 2.5761e-04 - accuracy: 0.7734 - mean_absolute_error: 0.6660 - val_loss: 2.4622e-04 - val_accuracy: 0.7781 - val_mean_absolute_error: 0.6660\n",
            "Epoch 67/100\n",
            "310/310 [==============================] - 3s 8ms/step - loss: 2.3973e-04 - accuracy: 0.7734 - mean_absolute_error: 0.6660 - val_loss: 2.2911e-04 - val_accuracy: 0.7781 - val_mean_absolute_error: 0.6660\n",
            "Epoch 68/100\n",
            "310/310 [==============================] - 3s 9ms/step - loss: 2.2308e-04 - accuracy: 0.7734 - mean_absolute_error: 0.6660 - val_loss: 2.1322e-04 - val_accuracy: 0.7781 - val_mean_absolute_error: 0.6661\n",
            "Epoch 69/100\n",
            "310/310 [==============================] - 3s 9ms/step - loss: 2.0758e-04 - accuracy: 0.7734 - mean_absolute_error: 0.6661 - val_loss: 1.9833e-04 - val_accuracy: 0.7781 - val_mean_absolute_error: 0.6661\n",
            "Epoch 70/100\n",
            "310/310 [==============================] - 3s 9ms/step - loss: 1.9313e-04 - accuracy: 0.7734 - mean_absolute_error: 0.6661 - val_loss: 1.8454e-04 - val_accuracy: 0.7781 - val_mean_absolute_error: 0.6661\n",
            "Epoch 71/100\n",
            "310/310 [==============================] - 3s 9ms/step - loss: 1.7967e-04 - accuracy: 0.7734 - mean_absolute_error: 0.6662 - val_loss: 1.7169e-04 - val_accuracy: 0.7781 - val_mean_absolute_error: 0.6662\n",
            "Epoch 72/100\n",
            "310/310 [==============================] - 3s 8ms/step - loss: 1.6715e-04 - accuracy: 0.7734 - mean_absolute_error: 0.6662 - val_loss: 1.5969e-04 - val_accuracy: 0.7781 - val_mean_absolute_error: 0.6662\n",
            "Epoch 73/100\n",
            "310/310 [==============================] - 3s 9ms/step - loss: 1.5550e-04 - accuracy: 0.7734 - mean_absolute_error: 0.6662 - val_loss: 1.4857e-04 - val_accuracy: 0.7781 - val_mean_absolute_error: 0.6662\n",
            "Epoch 74/100\n",
            "310/310 [==============================] - 3s 8ms/step - loss: 1.4464e-04 - accuracy: 0.7734 - mean_absolute_error: 0.6663 - val_loss: 1.3817e-04 - val_accuracy: 0.7781 - val_mean_absolute_error: 0.6663\n",
            "Epoch 75/100\n",
            "310/310 [==============================] - 3s 9ms/step - loss: 1.3453e-04 - accuracy: 0.7734 - mean_absolute_error: 0.6663 - val_loss: 1.2853e-04 - val_accuracy: 0.7781 - val_mean_absolute_error: 0.6663\n",
            "Epoch 76/100\n",
            "310/310 [==============================] - 3s 9ms/step - loss: 1.2510e-04 - accuracy: 0.7734 - mean_absolute_error: 0.6663 - val_loss: 1.1956e-04 - val_accuracy: 0.7781 - val_mean_absolute_error: 0.6663\n",
            "Epoch 77/100\n",
            "310/310 [==============================] - 3s 8ms/step - loss: 1.1633e-04 - accuracy: 0.7734 - mean_absolute_error: 0.6663 - val_loss: 1.1114e-04 - val_accuracy: 0.7781 - val_mean_absolute_error: 0.6663\n",
            "Epoch 78/100\n",
            "310/310 [==============================] - 3s 9ms/step - loss: 1.0816e-04 - accuracy: 0.7734 - mean_absolute_error: 0.6664 - val_loss: 1.0325e-04 - val_accuracy: 0.7781 - val_mean_absolute_error: 0.6664\n",
            "Epoch 79/100\n",
            "310/310 [==============================] - 3s 8ms/step - loss: 1.0056e-04 - accuracy: 0.7734 - mean_absolute_error: 0.6664 - val_loss: 9.6017e-05 - val_accuracy: 0.7781 - val_mean_absolute_error: 0.6664\n",
            "Epoch 80/100\n",
            "310/310 [==============================] - 3s 9ms/step - loss: 9.3474e-05 - accuracy: 0.7734 - mean_absolute_error: 0.6664 - val_loss: 8.9217e-05 - val_accuracy: 0.7781 - val_mean_absolute_error: 0.6664\n",
            "Epoch 81/100\n",
            "310/310 [==============================] - 3s 9ms/step - loss: 8.6873e-05 - accuracy: 0.7734 - mean_absolute_error: 0.6664 - val_loss: 8.2918e-05 - val_accuracy: 0.7781 - val_mean_absolute_error: 0.6664\n",
            "Epoch 82/100\n",
            "310/310 [==============================] - 3s 9ms/step - loss: 8.0728e-05 - accuracy: 0.7734 - mean_absolute_error: 0.6664 - val_loss: 7.7061e-05 - val_accuracy: 0.7781 - val_mean_absolute_error: 0.6664\n",
            "Epoch 83/100\n",
            "310/310 [==============================] - 3s 9ms/step - loss: 7.5000e-05 - accuracy: 0.7734 - mean_absolute_error: 0.6664 - val_loss: 7.1540e-05 - val_accuracy: 0.7781 - val_mean_absolute_error: 0.6664\n",
            "Epoch 84/100\n",
            "310/310 [==============================] - 3s 8ms/step - loss: 6.9657e-05 - accuracy: 0.7734 - mean_absolute_error: 0.6665 - val_loss: 6.6504e-05 - val_accuracy: 0.7781 - val_mean_absolute_error: 0.6665\n",
            "Epoch 85/100\n",
            "310/310 [==============================] - 3s 8ms/step - loss: 6.4688e-05 - accuracy: 0.7734 - mean_absolute_error: 0.6665 - val_loss: 6.1699e-05 - val_accuracy: 0.7781 - val_mean_absolute_error: 0.6665\n",
            "Epoch 86/100\n",
            "310/310 [==============================] - 3s 9ms/step - loss: 6.0058e-05 - accuracy: 0.7734 - mean_absolute_error: 0.6665 - val_loss: 5.7321e-05 - val_accuracy: 0.7781 - val_mean_absolute_error: 0.6665\n",
            "Epoch 87/100\n",
            "310/310 [==============================] - 3s 8ms/step - loss: 5.5745e-05 - accuracy: 0.7734 - mean_absolute_error: 0.6665 - val_loss: 5.3165e-05 - val_accuracy: 0.7781 - val_mean_absolute_error: 0.6665\n",
            "Epoch 88/100\n",
            "310/310 [==============================] - 3s 8ms/step - loss: 5.1732e-05 - accuracy: 0.7734 - mean_absolute_error: 0.6665 - val_loss: 4.9291e-05 - val_accuracy: 0.7781 - val_mean_absolute_error: 0.6665\n",
            "Epoch 89/100\n",
            "310/310 [==============================] - 3s 8ms/step - loss: 4.7990e-05 - accuracy: 0.7734 - mean_absolute_error: 0.6665 - val_loss: 4.5717e-05 - val_accuracy: 0.7781 - val_mean_absolute_error: 0.6665\n",
            "Epoch 90/100\n",
            "310/310 [==============================] - 3s 8ms/step - loss: 4.4507e-05 - accuracy: 0.7734 - mean_absolute_error: 0.6665 - val_loss: 4.2411e-05 - val_accuracy: 0.7781 - val_mean_absolute_error: 0.6665\n",
            "Epoch 91/100\n",
            "310/310 [==============================] - 3s 8ms/step - loss: 4.1263e-05 - accuracy: 0.7734 - mean_absolute_error: 0.6665 - val_loss: 3.9274e-05 - val_accuracy: 0.7781 - val_mean_absolute_error: 0.6665\n",
            "Epoch 92/100\n",
            "310/310 [==============================] - 3s 8ms/step - loss: 3.8236e-05 - accuracy: 0.7734 - mean_absolute_error: 0.6665 - val_loss: 3.6470e-05 - val_accuracy: 0.7781 - val_mean_absolute_error: 0.6665\n",
            "Epoch 93/100\n",
            "310/310 [==============================] - 3s 9ms/step - loss: 3.5417e-05 - accuracy: 0.7734 - mean_absolute_error: 0.6666 - val_loss: 3.3721e-05 - val_accuracy: 0.7781 - val_mean_absolute_error: 0.6666\n",
            "Epoch 94/100\n",
            "310/310 [==============================] - 3s 9ms/step - loss: 3.2795e-05 - accuracy: 0.7734 - mean_absolute_error: 0.6666 - val_loss: 3.1192e-05 - val_accuracy: 0.7781 - val_mean_absolute_error: 0.6666\n",
            "Epoch 95/100\n",
            "310/310 [==============================] - 3s 9ms/step - loss: 3.0347e-05 - accuracy: 0.7734 - mean_absolute_error: 0.6666 - val_loss: 2.8891e-05 - val_accuracy: 0.7781 - val_mean_absolute_error: 0.6666\n",
            "Epoch 96/100\n",
            "310/310 [==============================] - 3s 9ms/step - loss: 2.8066e-05 - accuracy: 0.7734 - mean_absolute_error: 0.6666 - val_loss: 2.6705e-05 - val_accuracy: 0.7781 - val_mean_absolute_error: 0.6666\n",
            "Epoch 97/100\n",
            "310/310 [==============================] - 3s 9ms/step - loss: 2.5942e-05 - accuracy: 0.7734 - mean_absolute_error: 0.6666 - val_loss: 2.4725e-05 - val_accuracy: 0.7781 - val_mean_absolute_error: 0.6666\n",
            "Epoch 98/100\n",
            "310/310 [==============================] - 3s 9ms/step - loss: 2.3963e-05 - accuracy: 0.7734 - mean_absolute_error: 0.6666 - val_loss: 2.2734e-05 - val_accuracy: 0.7781 - val_mean_absolute_error: 0.6666\n",
            "Epoch 99/100\n",
            "310/310 [==============================] - 3s 8ms/step - loss: 2.2120e-05 - accuracy: 0.7734 - mean_absolute_error: 0.6666 - val_loss: 2.1036e-05 - val_accuracy: 0.7781 - val_mean_absolute_error: 0.6666\n",
            "Epoch 100/100\n",
            "310/310 [==============================] - 3s 9ms/step - loss: 2.0407e-05 - accuracy: 0.7734 - mean_absolute_error: 0.6666 - val_loss: 1.9353e-05 - val_accuracy: 0.7781 - val_mean_absolute_error: 0.6666\n"
          ],
          "name": "stdout"
        }
      ]
    },
    {
      "cell_type": "code",
      "metadata": {
        "id": "D_U-bt2Y0k-G",
        "colab": {
          "base_uri": "https://localhost:8080/",
          "height": 298
        },
        "outputId": "5c15c5ff-02c9-4f7e-d542-b13a3dbf0dbe"
      },
      "source": [
        "#plot accuracy\n",
        "acc = mymodel.history['accuracy']\n",
        "val_acc = mymodel.history['val_accuracy']\n",
        "\n",
        "epochs = range(len(acc))\n",
        "\n",
        "fig, ax = plt.subplots(figsize=(10,4))\n",
        "ax.plot(epochs, acc, 'b', label='Training Accuracy')\n",
        "ax.plot(epochs, val_acc, 'r', label='Validation Accuracy')\n",
        "ax.set_title('Training and Validation Accuracy')\n",
        "plt.legend(loc=0)\n",
        "plt.figure()\n",
        "\n",
        "plt.show()"
      ],
      "execution_count": 70,
      "outputs": [
        {
          "output_type": "display_data",
          "data": {
            "image/png": "[encoded data removed]",
            "text/plain": [
              "<Figure size 720x288 with 1 Axes>"
            ]
          },
          "metadata": {
            "tags": [],
            "needs_background": "light"
          }
        },
        {
          "output_type": "display_data",
          "data": {
            "text/plain": [
              "<Figure size 432x288 with 0 Axes>"
            ]
          },
          "metadata": {
            "tags": []
          }
        }
      ]
    },
    {
      "cell_type": "markdown",
      "metadata": {
        "id": "MPKV6-d8BSy5"
      },
      "source": [
        "#Prediction"
      ]
    },
    {
      "cell_type": "code",
      "metadata": {
        "id": "5OfTXWzTBVGb",
        "outputId": "e231009b-5b87-42fa-a577-5cb36182af1f",
        "colab": {
          "base_uri": "https://localhost:8080/"
        }
      },
      "source": [
        "sample = tweet_test[500]\n",
        "sample_class = categori_test[500]\n",
        "sample_token = padded_test[500]\n",
        "print(sample)\n",
        "print(sample_token)\n",
        "print(sample_class)"
      ],
      "execution_count": 71,
      "outputs": [
        {
          "output_type": "stream",
          "text": [
            "@WendyDavisTexas hey Windy! Does your dildo take out the trash for you? Buzzzzz\n",
            "[  0   0   0   0   0   0   0   0   0   0   0   0   0   0   0   0   0   0\n",
            "   0   0   0   0   0   0   0   0   0   0   0   0   0   0   0   0   0   0\n",
            "   0   0   0   0   0   0   0   0   0   0   0   0   0   0   0   0   0   0\n",
            "   0   0   0   0   0   0   0   0 828 412 828 344  35 828 165  62   6  57\n",
            "  27   7 828]\n",
            "[0. 1. 0.]\n"
          ],
          "name": "stdout"
        }
      ]
    },
    {
      "cell_type": "code",
      "metadata": {
        "id": "xe7c3-zbBbkS",
        "outputId": "3e3803ce-114e-4373-9718-d0aa4a006e3a",
        "colab": {
          "base_uri": "https://localhost:8080/"
        }
      },
      "source": [
        "preds = model.predict(sample_token)\n",
        "pred_classes = tf.squeeze(tf.cast(preds>0.52, tf.int8))\n",
        "pred_classes"
      ],
      "execution_count": 72,
      "outputs": [
        {
          "output_type": "execute_result",
          "data": {
            "text/plain": [
              "<tf.Tensor: shape=(75, 3), dtype=int8, numpy=\n",
              "array([[1, 1, 1],\n",
              "       [1, 1, 1],\n",
              "       [1, 1, 1],\n",
              "       [1, 1, 1],\n",
              "       [1, 1, 1],\n",
              "       [1, 1, 1],\n",
              "       [1, 1, 1],\n",
              "       [1, 1, 1],\n",
              "       [1, 1, 1],\n",
              "       [1, 1, 1],\n",
              "       [1, 1, 1],\n",
              "       [1, 1, 1],\n",
              "       [1, 1, 1],\n",
              "       [1, 1, 1],\n",
              "       [1, 1, 1],\n",
              "       [1, 1, 1],\n",
              "       [1, 1, 1],\n",
              "       [1, 1, 1],\n",
              "       [1, 1, 1],\n",
              "       [1, 1, 1],\n",
              "       [1, 1, 1],\n",
              "       [1, 1, 1],\n",
              "       [1, 1, 1],\n",
              "       [1, 1, 1],\n",
              "       [1, 1, 1],\n",
              "       [1, 1, 1],\n",
              "       [1, 1, 1],\n",
              "       [1, 1, 1],\n",
              "       [1, 1, 1],\n",
              "       [1, 1, 1],\n",
              "       [1, 1, 1],\n",
              "       [1, 1, 1],\n",
              "       [1, 1, 1],\n",
              "       [1, 1, 1],\n",
              "       [1, 1, 1],\n",
              "       [1, 1, 1],\n",
              "       [1, 1, 1],\n",
              "       [1, 1, 1],\n",
              "       [1, 1, 1],\n",
              "       [1, 1, 1],\n",
              "       [1, 1, 1],\n",
              "       [1, 1, 1],\n",
              "       [1, 1, 1],\n",
              "       [1, 1, 1],\n",
              "       [1, 1, 1],\n",
              "       [1, 1, 1],\n",
              "       [1, 1, 1],\n",
              "       [1, 1, 1],\n",
              "       [1, 1, 1],\n",
              "       [1, 1, 1],\n",
              "       [1, 1, 1],\n",
              "       [1, 1, 1],\n",
              "       [1, 1, 1],\n",
              "       [1, 1, 1],\n",
              "       [1, 1, 1],\n",
              "       [1, 1, 1],\n",
              "       [1, 1, 1],\n",
              "       [1, 1, 1],\n",
              "       [1, 1, 1],\n",
              "       [1, 1, 1],\n",
              "       [1, 1, 1],\n",
              "       [1, 1, 1],\n",
              "       [1, 1, 1],\n",
              "       [1, 1, 1],\n",
              "       [1, 1, 1],\n",
              "       [1, 1, 1],\n",
              "       [1, 1, 1],\n",
              "       [1, 1, 1],\n",
              "       [1, 1, 1],\n",
              "       [1, 1, 1],\n",
              "       [1, 1, 1],\n",
              "       [1, 1, 1],\n",
              "       [1, 1, 1],\n",
              "       [1, 1, 1],\n",
              "       [1, 1, 1]], dtype=int8)>"
            ]
          },
          "metadata": {
            "tags": []
          },
          "execution_count": 72
        }
      ]
    },
    {
      "cell_type": "code",
      "metadata": {
        "id": "DlkUMJYpBi3l"
      },
      "source": [
        ""
      ],
      "execution_count": 72,
      "outputs": []
    }
  ]
}