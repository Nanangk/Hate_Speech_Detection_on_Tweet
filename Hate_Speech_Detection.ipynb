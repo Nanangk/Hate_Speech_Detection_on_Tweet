{
  "nbformat": 4,
  "nbformat_minor": 0,
  "metadata": {
    "colab": {
      "name": "Hate Speech Detection.ipynb",
      "provenance": [],
      "authorship_tag": "ABX9TyOvwkjmFWtVEyTrxes7QOai",
      "include_colab_link": true
    },
    "kernelspec": {
      "name": "python3",
      "display_name": "Python 3"
    },
    "accelerator": "GPU"
  },
  "cells": [
    {
      "cell_type": "markdown",
      "metadata": {
        "id": "view-in-github",
        "colab_type": "text"
      },
      "source": [
        "<a href=\"https://colab.research.google.com/github/Nanangk/Hate_Speech_Detection_on_Tweet/blob/master/Hate_Speech_Detection.ipynb\" target=\"_parent\"><img src=\"https://colab.research.google.com/assets/colab-badge.svg\" alt=\"Open In Colab\"/></a>"
      ]
    },
    {
      "cell_type": "code",
      "metadata": {
        "id": "CXo9RbzuDK-e",
        "colab_type": "code",
        "colab": {}
      },
      "source": [
        "#import dataset\n",
        "import pandas as pd\n",
        "df = pd.read_csv('labeled_data.csv')"
      ],
      "execution_count": null,
      "outputs": []
    },
    {
      "cell_type": "code",
      "metadata": {
        "id": "UyWlRVk0FF7_",
        "colab_type": "code",
        "colab": {
          "base_uri": "https://localhost:8080/",
          "height": 195
        },
        "outputId": "aede6cb7-a01f-4f19-af92-4ca929c6cec7"
      },
      "source": [
        "df.head()"
      ],
      "execution_count": null,
      "outputs": [
        {
          "output_type": "execute_result",
          "data": {
            "text/html": [
              "<div>\n",
              "<style scoped>\n",
              "    .dataframe tbody tr th:only-of-type {\n",
              "        vertical-align: middle;\n",
              "    }\n",
              "\n",
              "    .dataframe tbody tr th {\n",
              "        vertical-align: top;\n",
              "    }\n",
              "\n",
              "    .dataframe thead th {\n",
              "        text-align: right;\n",
              "    }\n",
              "</style>\n",
              "<table border=\"1\" class=\"dataframe\">\n",
              "  <thead>\n",
              "    <tr style=\"text-align: right;\">\n",
              "      <th></th>\n",
              "      <th>Unnamed: 0</th>\n",
              "      <th>count</th>\n",
              "      <th>hate_speech</th>\n",
              "      <th>offensive_language</th>\n",
              "      <th>neither</th>\n",
              "      <th>class</th>\n",
              "      <th>tweet</th>\n",
              "    </tr>\n",
              "  </thead>\n",
              "  <tbody>\n",
              "    <tr>\n",
              "      <th>0</th>\n",
              "      <td>0</td>\n",
              "      <td>3</td>\n",
              "      <td>0</td>\n",
              "      <td>0</td>\n",
              "      <td>3</td>\n",
              "      <td>2</td>\n",
              "      <td>!!! RT @mayasolovely: As a woman you shouldn't...</td>\n",
              "    </tr>\n",
              "    <tr>\n",
              "      <th>1</th>\n",
              "      <td>1</td>\n",
              "      <td>3</td>\n",
              "      <td>0</td>\n",
              "      <td>3</td>\n",
              "      <td>0</td>\n",
              "      <td>1</td>\n",
              "      <td>!!!!! RT @mleew17: boy dats cold...tyga dwn ba...</td>\n",
              "    </tr>\n",
              "    <tr>\n",
              "      <th>2</th>\n",
              "      <td>2</td>\n",
              "      <td>3</td>\n",
              "      <td>0</td>\n",
              "      <td>3</td>\n",
              "      <td>0</td>\n",
              "      <td>1</td>\n",
              "      <td>!!!!!!! RT @UrKindOfBrand Dawg!!!! RT @80sbaby...</td>\n",
              "    </tr>\n",
              "    <tr>\n",
              "      <th>3</th>\n",
              "      <td>3</td>\n",
              "      <td>3</td>\n",
              "      <td>0</td>\n",
              "      <td>2</td>\n",
              "      <td>1</td>\n",
              "      <td>1</td>\n",
              "      <td>!!!!!!!!! RT @C_G_Anderson: @viva_based she lo...</td>\n",
              "    </tr>\n",
              "    <tr>\n",
              "      <th>4</th>\n",
              "      <td>4</td>\n",
              "      <td>6</td>\n",
              "      <td>0</td>\n",
              "      <td>6</td>\n",
              "      <td>0</td>\n",
              "      <td>1</td>\n",
              "      <td>!!!!!!!!!!!!! RT @ShenikaRoberts: The shit you...</td>\n",
              "    </tr>\n",
              "  </tbody>\n",
              "</table>\n",
              "</div>"
            ],
            "text/plain": [
              "   Unnamed: 0  count  ...  class                                              tweet\n",
              "0           0      3  ...      2  !!! RT @mayasolovely: As a woman you shouldn't...\n",
              "1           1      3  ...      1  !!!!! RT @mleew17: boy dats cold...tyga dwn ba...\n",
              "2           2      3  ...      1  !!!!!!! RT @UrKindOfBrand Dawg!!!! RT @80sbaby...\n",
              "3           3      3  ...      1  !!!!!!!!! RT @C_G_Anderson: @viva_based she lo...\n",
              "4           4      6  ...      1  !!!!!!!!!!!!! RT @ShenikaRoberts: The shit you...\n",
              "\n",
              "[5 rows x 7 columns]"
            ]
          },
          "metadata": {
            "tags": []
          },
          "execution_count": 2
        }
      ]
    },
    {
      "cell_type": "code",
      "metadata": {
        "id": "K83uwJpSFH3S",
        "colab_type": "code",
        "colab": {
          "base_uri": "https://localhost:8080/",
          "height": 195
        },
        "outputId": "634e3ac9-62e9-46c1-db02-6272f200dfb9"
      },
      "source": [
        "#ambil hanya data yang diperlukan\n",
        "dataset = df[['class','tweet']]\n",
        "dataset.tail(5)"
      ],
      "execution_count": null,
      "outputs": [
        {
          "output_type": "execute_result",
          "data": {
            "text/html": [
              "<div>\n",
              "<style scoped>\n",
              "    .dataframe tbody tr th:only-of-type {\n",
              "        vertical-align: middle;\n",
              "    }\n",
              "\n",
              "    .dataframe tbody tr th {\n",
              "        vertical-align: top;\n",
              "    }\n",
              "\n",
              "    .dataframe thead th {\n",
              "        text-align: right;\n",
              "    }\n",
              "</style>\n",
              "<table border=\"1\" class=\"dataframe\">\n",
              "  <thead>\n",
              "    <tr style=\"text-align: right;\">\n",
              "      <th></th>\n",
              "      <th>class</th>\n",
              "      <th>tweet</th>\n",
              "    </tr>\n",
              "  </thead>\n",
              "  <tbody>\n",
              "    <tr>\n",
              "      <th>24778</th>\n",
              "      <td>1</td>\n",
              "      <td>you's a muthaf***in lie &amp;#8220;@LifeAsKing: @2...</td>\n",
              "    </tr>\n",
              "    <tr>\n",
              "      <th>24779</th>\n",
              "      <td>2</td>\n",
              "      <td>you've gone and broke the wrong heart baby, an...</td>\n",
              "    </tr>\n",
              "    <tr>\n",
              "      <th>24780</th>\n",
              "      <td>1</td>\n",
              "      <td>young buck wanna eat!!.. dat nigguh like I ain...</td>\n",
              "    </tr>\n",
              "    <tr>\n",
              "      <th>24781</th>\n",
              "      <td>1</td>\n",
              "      <td>youu got wild bitches tellin you lies</td>\n",
              "    </tr>\n",
              "    <tr>\n",
              "      <th>24782</th>\n",
              "      <td>2</td>\n",
              "      <td>~~Ruffled | Ntac Eileen Dahlia - Beautiful col...</td>\n",
              "    </tr>\n",
              "  </tbody>\n",
              "</table>\n",
              "</div>"
            ],
            "text/plain": [
              "       class                                              tweet\n",
              "24778      1  you's a muthaf***in lie &#8220;@LifeAsKing: @2...\n",
              "24779      2  you've gone and broke the wrong heart baby, an...\n",
              "24780      1  young buck wanna eat!!.. dat nigguh like I ain...\n",
              "24781      1              youu got wild bitches tellin you lies\n",
              "24782      2  ~~Ruffled | Ntac Eileen Dahlia - Beautiful col..."
            ]
          },
          "metadata": {
            "tags": []
          },
          "execution_count": 3
        }
      ]
    },
    {
      "cell_type": "code",
      "metadata": {
        "id": "3dgdgZE0F-uI",
        "colab_type": "code",
        "colab": {}
      },
      "source": [
        "#pisahkan review dengan rating\n",
        "tweet = dataset['tweet'].values\n",
        "categori = dataset['class'].values"
      ],
      "execution_count": null,
      "outputs": []
    },
    {
      "cell_type": "code",
      "metadata": {
        "id": "vrWgKYOmimdb",
        "colab_type": "code",
        "colab": {}
      },
      "source": [
        "import tensorflow as tf\n",
        "categori = tf.keras.utils.to_categorical(categori, 3)"
      ],
      "execution_count": null,
      "outputs": []
    },
    {
      "cell_type": "code",
      "metadata": {
        "id": "5JQ53A1SOr03",
        "colab_type": "code",
        "colab": {}
      },
      "source": [
        "#pastikan setiap review adalah text\n",
        "for i in range(len(tweet)):\n",
        "  tweet[i] = str(tweet[i])"
      ],
      "execution_count": null,
      "outputs": []
    },
    {
      "cell_type": "code",
      "metadata": {
        "id": "UYQA0qFnG84L",
        "colab_type": "code",
        "colab": {}
      },
      "source": [
        "from sklearn.model_selection import train_test_split\n",
        "tweet_train, tweet_test, categori_train, categori_test = train_test_split(tweet, categori, test_size=0.2)"
      ],
      "execution_count": null,
      "outputs": []
    },
    {
      "cell_type": "code",
      "metadata": {
        "id": "YCoQnpApHrum",
        "colab_type": "code",
        "colab": {}
      },
      "source": [
        "from tensorflow.keras.preprocessing.text import Tokenizer\n",
        "from tensorflow.keras.preprocessing.sequence import pad_sequences"
      ],
      "execution_count": null,
      "outputs": []
    },
    {
      "cell_type": "code",
      "metadata": {
        "id": "URhqFWicICzM",
        "colab_type": "code",
        "colab": {}
      },
      "source": [
        "#lakukan tokenisasi\n",
        "tokenizer = Tokenizer(num_words=1000, oov_token='x')\n",
        "tokenizer.fit_on_texts(tweet_train) \n",
        "tokenizer.fit_on_texts(tweet_test)"
      ],
      "execution_count": null,
      "outputs": []
    },
    {
      "cell_type": "code",
      "metadata": {
        "id": "molXmIa2LmQ4",
        "colab_type": "code",
        "colab": {}
      },
      "source": [
        "#konversi sampel menjadi sequence\n",
        "sekuens_latih = tokenizer.texts_to_sequences(tweet_train)\n",
        "sekuens_test = tokenizer.texts_to_sequences(tweet_test)"
      ],
      "execution_count": null,
      "outputs": []
    },
    {
      "cell_type": "code",
      "metadata": {
        "id": "oZvgWJxDIK6K",
        "colab_type": "code",
        "colab": {}
      },
      "source": [
        "#padding\n",
        "padded_latih = pad_sequences(sekuens_latih) \n",
        "padded_test = pad_sequences(sekuens_test)"
      ],
      "execution_count": null,
      "outputs": []
    },
    {
      "cell_type": "code",
      "metadata": {
        "id": "MYXLBomJIeP5",
        "colab_type": "code",
        "colab": {}
      },
      "source": [
        "#buat model\n",
        "\n",
        "model = tf.keras.Sequential([\n",
        "    tf.keras.layers.Embedding(input_dim=1000, output_dim=16),\n",
        "    tf.keras.layers.LSTM(64),\n",
        "    tf.keras.layers.Dense(256, activation='tanh'),\n",
        "    tf.keras.layers.Dense(128, activation='tanh'),\n",
        "    tf.keras.layers.Dense(64, activation='tanh'),\n",
        "    tf.keras.layers.Dense(32, activation='tanh'),\n",
        "    tf.keras.layers.Dense(3, activation='sigmoid')\n",
        "])"
      ],
      "execution_count": null,
      "outputs": []
    },
    {
      "cell_type": "code",
      "metadata": {
        "id": "Z4GZZ4ECL8R9",
        "colab_type": "code",
        "colab": {}
      },
      "source": [
        "#compile model\n",
        "model.compile(loss='kl_divergence',\n",
        "              optimizer=tf.keras.optimizers.Adadelta(learning_rate=0.001),\n",
        "              metrics=['accuracy',tf.keras.metrics.MeanAbsoluteError()])"
      ],
      "execution_count": null,
      "outputs": []
    },
    {
      "cell_type": "code",
      "metadata": {
        "id": "azsQEHzYME6M",
        "colab_type": "code",
        "colab": {
          "base_uri": "https://localhost:8080/",
          "height": 741
        },
        "outputId": "4e85e05f-92cd-4743-83ea-37bbb45e0d13"
      },
      "source": [
        "#training model\n",
        "\n",
        "history = model.fit(padded_latih, categori_train, epochs=20, batch_size=64, \n",
        "                    validation_data=(padded_test, categori_test), \n",
        "                    verbose=1)"
      ],
      "execution_count": null,
      "outputs": [
        {
          "output_type": "stream",
          "text": [
            "Epoch 1/20\n",
            "310/310 [==============================] - 7s 21ms/step - loss: 0.0080 - accuracy: 0.7760 - mean_absolute_error: 0.6484 - val_loss: 0.0083 - val_accuracy: 0.7676 - val_mean_absolute_error: 0.6488\n",
            "Epoch 2/20\n",
            "310/310 [==============================] - 7s 22ms/step - loss: 0.0078 - accuracy: 0.7760 - mean_absolute_error: 0.6487 - val_loss: 0.0081 - val_accuracy: 0.7676 - val_mean_absolute_error: 0.6491\n",
            "Epoch 3/20\n",
            "310/310 [==============================] - 7s 22ms/step - loss: 0.0077 - accuracy: 0.7760 - mean_absolute_error: 0.6491 - val_loss: 0.0080 - val_accuracy: 0.7676 - val_mean_absolute_error: 0.6495\n",
            "Epoch 4/20\n",
            "310/310 [==============================] - 7s 21ms/step - loss: 0.0075 - accuracy: 0.7760 - mean_absolute_error: 0.6494 - val_loss: 0.0078 - val_accuracy: 0.7676 - val_mean_absolute_error: 0.6498\n",
            "Epoch 5/20\n",
            "310/310 [==============================] - 7s 21ms/step - loss: 0.0074 - accuracy: 0.7760 - mean_absolute_error: 0.6497 - val_loss: 0.0077 - val_accuracy: 0.7676 - val_mean_absolute_error: 0.6501\n",
            "Epoch 6/20\n",
            "310/310 [==============================] - 7s 21ms/step - loss: 0.0073 - accuracy: 0.7760 - mean_absolute_error: 0.6500 - val_loss: 0.0076 - val_accuracy: 0.7676 - val_mean_absolute_error: 0.6504\n",
            "Epoch 7/20\n",
            "310/310 [==============================] - 7s 21ms/step - loss: 0.0072 - accuracy: 0.7760 - mean_absolute_error: 0.6503 - val_loss: 0.0074 - val_accuracy: 0.7676 - val_mean_absolute_error: 0.6507\n",
            "Epoch 8/20\n",
            "310/310 [==============================] - 7s 21ms/step - loss: 0.0070 - accuracy: 0.7760 - mean_absolute_error: 0.6506 - val_loss: 0.0073 - val_accuracy: 0.7676 - val_mean_absolute_error: 0.6509\n",
            "Epoch 9/20\n",
            "310/310 [==============================] - 7s 21ms/step - loss: 0.0069 - accuracy: 0.7760 - mean_absolute_error: 0.6509 - val_loss: 0.0072 - val_accuracy: 0.7676 - val_mean_absolute_error: 0.6512\n",
            "Epoch 10/20\n",
            "310/310 [==============================] - 7s 21ms/step - loss: 0.0068 - accuracy: 0.7760 - mean_absolute_error: 0.6511 - val_loss: 0.0071 - val_accuracy: 0.7676 - val_mean_absolute_error: 0.6515\n",
            "Epoch 11/20\n",
            "310/310 [==============================] - 7s 21ms/step - loss: 0.0067 - accuracy: 0.7760 - mean_absolute_error: 0.6514 - val_loss: 0.0070 - val_accuracy: 0.7676 - val_mean_absolute_error: 0.6517\n",
            "Epoch 12/20\n",
            "310/310 [==============================] - 7s 21ms/step - loss: 0.0066 - accuracy: 0.7760 - mean_absolute_error: 0.6516 - val_loss: 0.0068 - val_accuracy: 0.7676 - val_mean_absolute_error: 0.6520\n",
            "Epoch 13/20\n",
            "310/310 [==============================] - 7s 21ms/step - loss: 0.0065 - accuracy: 0.7760 - mean_absolute_error: 0.6519 - val_loss: 0.0067 - val_accuracy: 0.7676 - val_mean_absolute_error: 0.6522\n",
            "Epoch 14/20\n",
            "310/310 [==============================] - 7s 22ms/step - loss: 0.0064 - accuracy: 0.7760 - mean_absolute_error: 0.6521 - val_loss: 0.0066 - val_accuracy: 0.7676 - val_mean_absolute_error: 0.6524\n",
            "Epoch 15/20\n",
            "310/310 [==============================] - 7s 22ms/step - loss: 0.0063 - accuracy: 0.7760 - mean_absolute_error: 0.6524 - val_loss: 0.0065 - val_accuracy: 0.7676 - val_mean_absolute_error: 0.6527\n",
            "Epoch 16/20\n",
            "310/310 [==============================] - 7s 21ms/step - loss: 0.0062 - accuracy: 0.7760 - mean_absolute_error: 0.6526 - val_loss: 0.0064 - val_accuracy: 0.7676 - val_mean_absolute_error: 0.6529\n",
            "Epoch 17/20\n",
            "310/310 [==============================] - 7s 21ms/step - loss: 0.0061 - accuracy: 0.7760 - mean_absolute_error: 0.6528 - val_loss: 0.0063 - val_accuracy: 0.7676 - val_mean_absolute_error: 0.6531\n",
            "Epoch 18/20\n",
            "310/310 [==============================] - 7s 21ms/step - loss: 0.0060 - accuracy: 0.7760 - mean_absolute_error: 0.6530 - val_loss: 0.0062 - val_accuracy: 0.7676 - val_mean_absolute_error: 0.6533\n",
            "Epoch 19/20\n",
            "310/310 [==============================] - 7s 21ms/step - loss: 0.0059 - accuracy: 0.7760 - mean_absolute_error: 0.6532 - val_loss: 0.0062 - val_accuracy: 0.7676 - val_mean_absolute_error: 0.6535\n",
            "Epoch 20/20\n",
            "310/310 [==============================] - 7s 21ms/step - loss: 0.0058 - accuracy: 0.7760 - mean_absolute_error: 0.6534 - val_loss: 0.0061 - val_accuracy: 0.7676 - val_mean_absolute_error: 0.6537\n"
          ],
          "name": "stdout"
        }
      ]
    },
    {
      "cell_type": "code",
      "metadata": {
        "id": "D_U-bt2Y0k-G",
        "colab_type": "code",
        "colab": {}
      },
      "source": [
        ""
      ],
      "execution_count": null,
      "outputs": []
    }
  ]
}